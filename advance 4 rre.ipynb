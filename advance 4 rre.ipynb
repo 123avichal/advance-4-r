{
 "cells": [
  {
   "cell_type": "markdown",
   "id": "c7ae5e86-32c1-4c75-b81f-b7317d619a2f",
   "metadata": {
    "tags": []
   },
   "source": [
    "# Q1: What is the difference between a t-test and a z-test? Provide an example scenario where you would use each type of test."
   ]
  },
  {
   "cell_type": "markdown",
   "id": "df44e59f-94a9-4783-8477-9e775c63856c",
   "metadata": {},
   "source": [
    "T-test refers to a type of parametric test that is applied to identify, how the means of two sets of data differ from one another when variance is not given.\n",
    "\n",
    "Z-test implies a hypothesis test which ascertains if the means of two datasets are different from each other when variance is given.\n",
    "\n",
    "t test based on Student-t distribution\n",
    "z test based on Normal distribution\n",
    "\n",
    "in t test  Population variance\tUnknown\n",
    "in z test  Population variance\tknown\n",
    "\n",
    "in t test Sample Size\tSmall\n",
    "in z test Sample Size\tlarge\n",
    "\n",
    "The t-test can be understood as a statistical test which is used to compare and analyse whether the means of the two population is different from one another or not when the standard deviation is not known. As against, Z-test is a parametric test, which is applied when the standard deviation is known, to determine, if the means of the two datasets differ from each other.\n",
    "\n",
    "The t-test is based on Student’s t-distribution. On the contrary, z-test relies on the assumption that the distribution of sample means is normal. Both student’s t-distribution and normal distribution appear alike, as both are symmetrical and bell-shaped. However, they differ in the sense that in a t-distribution, there is less space in the centre and more in the tails.\n",
    "\n",
    "One of the important conditions for adopting t-test is that population variance is unknown. Conversely, population variance should be known or assumed to be known in case of a z-test.\n",
    "Z-test is used to when the sample size is large, i.e. n > 30, and t-test is appropriate when the size of the sample is small, in the sense that n < 30."
   ]
  },
  {
   "cell_type": "markdown",
   "id": "d4f1b26c-f9ed-4fdd-bf44-e68a2741521a",
   "metadata": {},
   "source": [
    "# Q2: Differentiate between one-tailed and two-tailed tests."
   ]
  },
  {
   "cell_type": "markdown",
   "id": "92586e89-56a0-439c-b7fa-402cb96bef0a",
   "metadata": {},
   "source": [
    "One-tailed tests allow for the possibility of an effect in one direction. Two-tailed tests test for the possibility of an effect in two directions—positive and negative. "
   ]
  },
  {
   "cell_type": "markdown",
   "id": "2687a189-974f-466b-a3dc-38138d97c46a",
   "metadata": {},
   "source": [
    "# Q3: Explain the concept of Type 1 and Type 2 errors in hypothesis testing. Provide an example scenario for each type of error. "
   ]
  },
  {
   "cell_type": "markdown",
   "id": "47cf6aaa-9902-4c2f-94c1-dbc737c9842c",
   "metadata": {},
   "source": [
    "A type I error (false-positive) occurs if an investigator rejects a null hypothesis that is actually true in the population; a type II error (false-negative) occurs if the investigator fails to reject a null hypothesis that is actually false in the population\n",
    "\n",
    "You decide to get tested for COVID-19 based on mild symptoms. There are two errors that could potentially occur:\n",
    "Type I error (false positive): the test result says you have coronavirus, but you actually don’t.\n",
    "Type II error (false negative): the test result says you don’t have coronavirus, but you actually do."
   ]
  },
  {
   "cell_type": "markdown",
   "id": "00548731-1b28-4b84-91e3-449926b767af",
   "metadata": {},
   "source": [
    "# Q4: Explain Bayes's theorem with an example."
   ]
  },
  {
   "cell_type": "markdown",
   "id": "b50edbd5-722c-4af0-97b5-3da5478388ee",
   "metadata": {},
   "source": [
    "Bayes theorem gives the probability of an “event” with the given information on “tests”. There is a difference between “events” and “tests”. For example there is a test for liver disease, which is different from actually having the liver disease, i.e. an event. Rare events might be having a higher false positive rate.\n",
    "Bayes’s theorem is used for the calculation of a conditional probability where intuition often fails. Although widely used in probability, the theorem is being applied in the machine learning field too. Its use in machine learning includes the fitting of a model to a training dataset and developing classification models. "
   ]
  },
  {
   "cell_type": "markdown",
   "id": "14fc8d00-d94e-4167-8b8f-924459577672",
   "metadata": {},
   "source": [
    " # Q5: What is a confidence interval? How to calculate the confidence interval, explain with an example."
   ]
  },
  {
   "cell_type": "markdown",
   "id": "e07f8cdc-bfb7-4d2b-b330-6ca9671ce279",
   "metadata": {},
   "source": [
    "In Statistics, a confidence interval is a kind of interval calculation, obtained from the observed data that holds the actual value of the unknown parameter.\n",
    "The formula for a confidence interval is (mean – (z* (std_dev/sqrt(n)), mean + (z* (std_dev/sqrt(n))\n",
    "\n",
    " the confidence interval is (85 – (1.96*(5/sqrt(30))), 85 + (1.96*(5/sqrt(30))) = (83.21, 86.79). For a 99% confidence interval and a sample size > 30, we typically use a z-score of 2.58."
   ]
  },
  {
   "cell_type": "markdown",
   "id": "406a2778-3dc4-4234-a857-7712e89fe153",
   "metadata": {},
   "source": [
    "# Q6. Use Bayes' Theorem to calculate the probability of an event occurring given prior knowledge of the event's probability and new evidence. Provide a sample problem and solution."
   ]
  },
  {
   "cell_type": "markdown",
   "id": "162007a4-d946-4b7e-b99b-82c304687335",
   "metadata": {},
   "source": [
    "Bag1 contains 4 white and 8 black balls and Bag2 contains 5 white and 3 black balls. From one of the bag one ball is drawn at random and the ball which is drawn comes out as black. Find the probability that the ball is drawn from Bag1.\n",
    "\n",
    "Let E1, E2 and A be the three events where,\n",
    "E1 = Event of selecting Bag1\n",
    "E2 = Event of selecting Bag2\n",
    "A = Event of drawing black ball\n",
    "\n",
    "Now, \n",
    "P(E1) = P(E2) = 1/2\n",
    "P(drawing a black ball from Bag1) = P(A|E1) = 8/12 = 2/3\n",
    "P(drawing a black ball from Bag2) = P(A|E2) = 3/8 \n",
    "\n",
    "By using Bayes' Theorem, the probability of drawing a black ball from Bag1,\n",
    "P(E1|A) = P(A|E1) * P(E1) / P(A|E1) * P(E1) + P(A|E2) * P(E2) \n",
    "                [P(A|E1) * P(E1) + P(A|E2) * P(E2) = Total Probability]\n",
    "        = (2/3 * 1/2) / (2/3 * 1/2 + 3/8 * 1/2)\n",
    "        = 16/25\n",
    "        \n",
    "Hence, the probability that the ball is drawn from Bag1 is 16/25"
   ]
  },
  {
   "cell_type": "markdown",
   "id": "5233d6a1-fb48-4459-90ec-98c59d72fff9",
   "metadata": {},
   "source": [
    "Q7. Calculate the 95% confidence interval for a sample of data with a mean of 50 and a standard deviation\n",
    "of 5. Interpret the results."
   ]
  },
  {
   "cell_type": "code",
   "execution_count": 118,
   "id": "82791d70-285d-48d1-b33f-b723abea3fdf",
   "metadata": {},
   "outputs": [
    {
     "name": "stderr",
     "output_type": "stream",
     "text": [
      "/tmp/ipykernel_106/2375307357.py:4: DeprecationWarning: Use of keyword argument `alpha` for method `interval` is deprecated. Use first positional argument or keyword argument `confidence` instead.\n",
      "  stats.t.interval(alpha=0.95,df=len(data)-1)\n"
     ]
    },
    {
     "data": {
      "text/plain": [
       "(105.44444444444444, 48.69323222171158)"
      ]
     },
     "execution_count": 118,
     "metadata": {},
     "output_type": "execute_result"
    }
   ],
   "source": [
    "import numpy as np\n",
    "from scipy import stats\n",
    "data = [22,334,4,5,3,323,232,3,23]\n",
    "stats.t.interval(alpha=0.95,df=len(data)-1)\n",
    "np.mean(data),stats.sem(data)"
   ]
  },
  {
   "cell_type": "markdown",
   "id": "e43ee823-5c4b-4dc9-a819-3beff232d49d",
   "metadata": {},
   "source": [
    "Q8. What is the margin of error in a confidence interval? How does sample size affect the margin of error?\n",
    "Provide an example of a scenario where a larger sample size would result in a smaller margin of error."
   ]
  },
  {
   "cell_type": "markdown",
   "id": "3052b562-1d55-4dda-a934-a8c0b9c05fa5",
   "metadata": {},
   "source": [
    "The margin of error is equal to half the width of the entire confidence interval. The width of the confidence interval is 18.5 – 12.5 = 6. The margin of error is equal to half the width, which would be 6/2 = 3.\n",
    "\n",
    "It is intuitive that a greater sample size will be a closer representative of the population than a smaller sample size. Hence, the larger the sample size, the smaller the sample standard error and therefore the smaller the margin of error."
   ]
  },
  {
   "cell_type": "markdown",
   "id": "35e9364b-a28f-471e-a7e5-095e3d810b27",
   "metadata": {},
   "source": [
    "Q9. Calculate the z-score for a data point with a value of 75, a population mean of 70, and a population\n",
    "standard deviation of 5. Interpret the results."
   ]
  },
  {
   "cell_type": "code",
   "execution_count": 119,
   "id": "f489e7a0-ea89-4a27-85fd-95835758a6a3",
   "metadata": {},
   "outputs": [],
   "source": [
    "z_scores = (data - np.mean(data)) / np.std(data)"
   ]
  },
  {
   "cell_type": "code",
   "execution_count": 120,
   "id": "8972e0b9-f657-45b4-96c5-2ca1cab1c4b2",
   "metadata": {},
   "outputs": [],
   "source": [
    "import numpy as np\n",
    "import scipy.stats as st\n",
    "sample_size=np.array([75,45,34,2,4,23,8])"
   ]
  },
  {
   "cell_type": "code",
   "execution_count": 121,
   "id": "fbd26d2a-4825-4ed0-9ca3-1f7d8d391e51",
   "metadata": {},
   "outputs": [
    {
     "data": {
      "text/plain": [
       "array([ 0.0793834 ,  0.02947168,  0.01117072, -0.04206845, -0.038741  ,\n",
       "       -0.00713025, -0.03208611])"
      ]
     },
     "execution_count": 121,
     "metadata": {},
     "output_type": "execute_result"
    }
   ],
   "source": [
    "st.zscore(sample_size-np.mean(sample_size))/np.std(sample_size)"
   ]
  },
  {
   "cell_type": "markdown",
   "id": "006239ed-66be-4d76-99ba-92081fb419cb",
   "metadata": {},
   "source": [
    "Q10. In a study of the effectiveness of a new weight loss drug, a sample of 50 participants lost an average\n",
    "of 6 pounds with a standard deviation of 2.5 pounds. Conduct a hypothesis test to determine if the drug is\n",
    "significantly effective at a 95% confidence level using a t-test."
   ]
  },
  {
   "cell_type": "code",
   "execution_count": 122,
   "id": "4af2eaa4-b043-4d45-8a85-0d45b3a85a71",
   "metadata": {},
   "outputs": [
    {
     "data": {
      "text/plain": [
       "49"
      ]
     },
     "execution_count": 122,
     "metadata": {},
     "output_type": "execute_result"
    }
   ],
   "source": [
    "import scipy.stats as st \n",
    "significanse= 0.05\n",
    "dof = len(sample_a)-1\n",
    "critical_value= st.chi2.ppf(1-significanse,dof)\n",
    "dof"
   ]
  },
  {
   "cell_type": "code",
   "execution_count": 123,
   "id": "f58df4a1-0290-4a39-9486-f2178088026a",
   "metadata": {},
   "outputs": [],
   "source": [
    "sample_a = range(0,50)\n",
    "sample_b= range(0,50)\n",
    "statistic,pvalue=st.ttest_ind(sample_a,sample_b)"
   ]
  },
  {
   "cell_type": "code",
   "execution_count": 124,
   "id": "3d929474-c2da-48e8-bdd9-a71617522134",
   "metadata": {},
   "outputs": [
    {
     "name": "stdout",
     "output_type": "stream",
     "text": [
      "failed to reject\n"
     ]
    }
   ],
   "source": [
    "if statistic>critical_value:\n",
    "    print('reject null hypothesis')\n",
    "else:\n",
    "    print('failed to reject')"
   ]
  },
  {
   "cell_type": "markdown",
   "id": "f7959181-2aaa-409f-95ca-d17ddfafdb15",
   "metadata": {},
   "source": [
    "Q11. In a survey of 500 people, 65% reported being satisfied with their current job. Calculate the 95%\n",
    "confidence interval for the true proportion of people who are satisfied with their job."
   ]
  },
  {
   "cell_type": "markdown",
   "id": "1b4ac540-5803-49ad-856e-926e30af729e",
   "metadata": {},
   "source": [
    "sample_size is n = 500\n",
    "the sample mean is = 65%=0.65\n",
    "the confidence level is= 95% =0.95\n",
    "lower limit of ci is \n",
    "0.60-1.96 math.sqrt0.65(1-0.65)/500\n",
    " the confidence intervel is= 0.6487"
   ]
  },
  {
   "cell_type": "markdown",
   "id": "e9d92400-34b9-4d34-8f22-b2d3560c2d7c",
   "metadata": {},
   "source": [
    "Q14. In a study of the effects of caffeine on reaction time, a sample of 30 participants had an average\n",
    "reaction time of 0.25 seconds with a standard deviation of 0.05 seconds. Conduct a hypothesis test to\n",
    "determine if the caffeine has a significant effect on reaction time at a 90% confidence level using a t-test."
   ]
  },
  {
   "cell_type": "markdown",
   "id": "951eba4b-60cc-4743-950c-c089a2315305",
   "metadata": {},
   "source": [
    "sample_size=30\n",
    "xi=0.25\n",
    "sigma=0.05\n",
    "ci=90%\n",
    "dof=30-1=29\n",
    "calculate = 0.25/0.05/math.sqrt(30)\n",
    "= 0.9128\n",
    "critical value = 1.699\n",
    " \n",
    "critical value >0.9128\n",
    " hence accept the null hypothesis"
   ]
  }
 ],
 "metadata": {
  "kernelspec": {
   "display_name": "Python 3 (ipykernel)",
   "language": "python",
   "name": "python3"
  },
  "language_info": {
   "codemirror_mode": {
    "name": "ipython",
    "version": 3
   },
   "file_extension": ".py",
   "mimetype": "text/x-python",
   "name": "python",
   "nbconvert_exporter": "python",
   "pygments_lexer": "ipython3",
   "version": "3.10.8"
  }
 },
 "nbformat": 4,
 "nbformat_minor": 5
}
